{
 "cells": [
  {
   "cell_type": "code",
   "execution_count": null,
   "id": "e0adcc4c-b4de-4d9a-96f3-2775c96bb07b",
   "metadata": {},
   "outputs": [],
   "source": [
    "# 1.  Write a program that prints your name 100 times. \n",
    "\n",
    "for i in range(101):\n",
    "    print(\"Name\")"
   ]
  },
  {
   "cell_type": "code",
   "execution_count": 1,
   "id": "8385ed64-337a-40ee-9994-8961cab1b782",
   "metadata": {},
   "outputs": [],
   "source": [
    "# Write a program to fill the screen horizontally and vertically with your name. \n",
    "#[Hint: add the option end=' ' into the print function to fill the screen horizontally.] \n",
    "\n",
    "for i in range(101):\n",
    "    print(\"Name\",end='')"
   ]
  },
  {
   "cell_type": "code",
   "execution_count": null,
   "id": "f75885eb-bb96-4c02-bf4d-9ad8451b7b1c",
   "metadata": {},
   "outputs": [],
   "source": []
  },
  {
   "cell_type": "code",
   "execution_count": null,
   "id": "4ae83c26-921b-4242-875d-0ea16ad545b4",
   "metadata": {},
   "outputs": [],
   "source": []
  }
 ],
 "metadata": {
  "kernelspec": {
   "display_name": "Python 3 (ipykernel)",
   "language": "python",
   "name": "python3"
  },
  "language_info": {
   "codemirror_mode": {
    "name": "ipython",
    "version": 3
   },
   "file_extension": ".py",
   "mimetype": "text/x-python",
   "name": "python",
   "nbconvert_exporter": "python",
   "pygments_lexer": "ipython3",
   "version": "3.12.3"
  }
 },
 "nbformat": 4,
 "nbformat_minor": 5
}
