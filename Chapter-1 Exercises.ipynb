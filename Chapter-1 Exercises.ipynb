{
 "cells": [
  {
   "cell_type": "code",
   "execution_count": 1,
   "id": "46538999-0f38-4dd8-8cb8-0629ee17d852",
   "metadata": {},
   "outputs": [
    {
     "name": "stdout",
     "output_type": "stream",
     "text": [
      "*******************\n",
      "*******************\n",
      "*******************\n",
      "*******************\n"
     ]
    }
   ],
   "source": [
    "#1\n",
    "\n",
    "print(\"*******************\")\n",
    "print(\"*******************\")\n",
    "print(\"*******************\")\n",
    "print(\"*******************\")"
   ]
  },
  {
   "cell_type": "code",
   "execution_count": 2,
   "id": "cf88bae0-9568-4bea-9d17-33199c9079e0",
   "metadata": {},
   "outputs": [
    {
     "name": "stdout",
     "output_type": "stream",
     "text": [
      "*******************\n",
      "*                 *\n",
      "*                 *\n",
      "*******************\n"
     ]
    }
   ],
   "source": [
    "#2\n",
    "\n",
    "print(\"*******************\")\n",
    "print(\"*                 *\")\n",
    "print(\"*                 *\")\n",
    "print(\"*******************\")"
   ]
  },
  {
   "cell_type": "code",
   "execution_count": 3,
   "id": "7fa8f2dd-1b99-4418-b9c2-140ee6932bc8",
   "metadata": {},
   "outputs": [
    {
     "name": "stdout",
     "output_type": "stream",
     "text": [
      "*\n",
      "**\n",
      "***\n",
      "****\n"
     ]
    }
   ],
   "source": [
    "#3\n",
    "\n",
    "print(\"*\")\n",
    "print(\"**\")\n",
    "print(\"***\")\n",
    "print(\"****\")"
   ]
  },
  {
   "cell_type": "code",
   "execution_count": 4,
   "id": "27134a8d-ae92-434f-a49e-671eaea31d15",
   "metadata": {},
   "outputs": [
    {
     "name": "stdout",
     "output_type": "stream",
     "text": [
      "0.1017249004865104\n"
     ]
    }
   ],
   "source": [
    "#4 Write a program that computes and prints the result of the following expression. 512-282 / 47·48+5 \n",
    "\n",
    "print ((512-282)/(47*48+5))\n"
   ]
  },
  {
   "cell_type": "raw",
   "id": "c9e2d598-ae2e-498c-8810-350592fea82e",
   "metadata": {},
   "source": [
    "5.Ask the user to enter a number. Print out the square of the number, but use the sep optional argument to print it out in a full sentence that ends in a period. Sample output is shown below.\n",
    "\n",
    "Enter a number: 5\n",
    "The square of 5 is 25.\n"
   ]
  },
  {
   "cell_type": "code",
   "execution_count": 6,
   "id": "c704c4b0-6a69-401b-8232-64791314bf4a",
   "metadata": {},
   "outputs": [
    {
     "name": "stdin",
     "output_type": "stream",
     "text": [
      "Enter a number:  5\n"
     ]
    },
    {
     "name": "stdout",
     "output_type": "stream",
     "text": [
      "The square of 5 is 25.\n"
     ]
    }
   ],
   "source": [
    "num = eval(input(\"Enter a number: \"))\n",
    "print(\"The square of \", num, \" is \", num*num, \".\", sep='')"
   ]
  },
  {
   "cell_type": "raw",
   "id": "13a44e9a-0f2e-4483-b283-8fb2e39ed248",
   "metadata": {},
   "source": [
    "6. Ask the user to enter a number x. Use the sep optional argument to print out x, 2x, 3x, 4x, and 5x, each separated by three dashes, like below.\n",
    "\n",
    "Enter a number: 7\n",
    "7---14---21---28---35\n"
   ]
  },
  {
   "cell_type": "code",
   "execution_count": 2,
   "id": "7da62695-5393-4c37-9755-d85d2fdb60e6",
   "metadata": {},
   "outputs": [
    {
     "name": "stdin",
     "output_type": "stream",
     "text": [
      "Enter a number:  7\n"
     ]
    },
    {
     "name": "stdout",
     "output_type": "stream",
     "text": [
      "7---14---21---28---35\n"
     ]
    }
   ],
   "source": [
    "x = eval(input(\"Enter a number: \"))\n",
    "print(x, \"---\", 2*x, \"---\", 3*x, \"---\", 4*x, \"---\", 5*x, sep='')"
   ]
  },
  {
   "cell_type": "code",
   "execution_count": 4,
   "id": "d71c8fb6-4586-410e-91e6-07f3d55fc4e5",
   "metadata": {},
   "outputs": [
    {
     "name": "stdin",
     "output_type": "stream",
     "text": [
      " 5\n"
     ]
    },
    {
     "name": "stdout",
     "output_type": "stream",
     "text": [
      "11.0\n"
     ]
    }
   ],
   "source": [
    "# 7 Write a program that asks the user for a weight in kilograms and converts it to pounds. There are 2.2 pounds in a kilogram. \n",
    "\n",
    "weight = float(input())\n",
    "pounds = 2.2 * weight\n",
    "print(pounds)"
   ]
  },
  {
   "cell_type": "code",
   "execution_count": 6,
   "id": "dfe58724-954d-4054-8a6e-7c7066bff73f",
   "metadata": {},
   "outputs": [
    {
     "name": "stdin",
     "output_type": "stream",
     "text": [
      " 1\n",
      " 2\n",
      " 3\n"
     ]
    },
    {
     "name": "stdout",
     "output_type": "stream",
     "text": [
      "Total is:  6\n",
      "Avg is:  2.0\n"
     ]
    }
   ],
   "source": [
    "# 8. Write a program that asks the user to enter three numbers (use three separate input statements). \n",
    "# Create variables called total and average that hold the sum and average of the three numbers and print out the values of total and average. \n",
    "\n",
    "a = eval(input())\n",
    "b = eval(input())\n",
    "c = eval(input())\n",
    "\n",
    "total = a+b+c\n",
    "average = (a+b+c)/3\n",
    "\n",
    "print(\"Total is: \", total)\n",
    "print(\"Avg is: \", average)"
   ]
  },
  {
   "cell_type": "code",
   "execution_count": 8,
   "id": "e2e2da90-694b-41c4-a43d-7fb01616929e",
   "metadata": {},
   "outputs": [
    {
     "name": "stdin",
     "output_type": "stream",
     "text": [
      "Enter the price of the meal:  25\n",
      "Enter the tip you want to leave:  5\n"
     ]
    },
    {
     "name": "stdout",
     "output_type": "stream",
     "text": [
      "The tip amount is:  5\n",
      "Total bill with tip included is:  30\n"
     ]
    }
   ],
   "source": [
    "''' 9. A lot of cell phones have tip calculators. Write one. \n",
    "Ask the user for the price of the meal and the percent tip they want to leave. \n",
    "Then print both the tip amount and the total bill with the tip included. '''\n",
    "\n",
    "price = eval(input(\"Enter the price of the meal: \"))\n",
    "tip = eval(input(\"Enter the tip you want to leave: \"))\n",
    "print(\"The tip amount is: \", tip)\n",
    "print(\"Total bill with tip included is: \", price+tip)"
   ]
  },
  {
   "cell_type": "code",
   "execution_count": null,
   "id": "75cf9798-4b3a-411f-84e8-97b7a2b49cd6",
   "metadata": {},
   "outputs": [],
   "source": []
  }
 ],
 "metadata": {
  "kernelspec": {
   "display_name": "Python 3 (ipykernel)",
   "language": "python",
   "name": "python3"
  },
  "language_info": {
   "codemirror_mode": {
    "name": "ipython",
    "version": 3
   },
   "file_extension": ".py",
   "mimetype": "text/x-python",
   "name": "python",
   "nbconvert_exporter": "python",
   "pygments_lexer": "ipython3",
   "version": "3.12.3"
  }
 },
 "nbformat": 4,
 "nbformat_minor": 5
}
