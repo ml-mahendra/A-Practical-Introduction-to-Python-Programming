{
 "cells": [
  {
   "cell_type": "code",
   "execution_count": null,
   "id": "e0adcc4c-b4de-4d9a-96f3-2775c96bb07b",
   "metadata": {},
   "outputs": [],
   "source": [
    "# 1.  Write a program that prints your name 100 times. \n",
    "\n",
    "for i in range(101):\n",
    "    print(\"Name\")"
   ]
  },
  {
   "cell_type": "code",
   "execution_count": 2,
   "id": "8385ed64-337a-40ee-9994-8961cab1b782",
   "metadata": {},
   "outputs": [
    {
     "name": "stdout",
     "output_type": "stream",
     "text": [
      "NameNameNameNameNameNameNameNameNameNameNameNameNameNameNameNameNameNameNameNameNameNameNameNameNameNameNameNameNameNameNameNameNameNameNameNameNameNameNameNameNameNameNameNameNameNameNameNameNameNameNameNameNameNameNameNameNameNameNameNameNameNameNameNameNameNameNameNameNameNameNameNameNameNameNameNameNameNameNameNameNameNameNameNameNameNameNameNameNameNameNameNameNameNameNameNameNameNameNameNameName"
     ]
    }
   ],
   "source": [
    "# Write a program to fill the screen horizontally and vertically with your name. \n",
    "#[Hint: add the option end=' ' into the print function to fill the screen horizontally.] \n",
    "\n",
    "for i in range(101):\n",
    "    print(\"Name\",end='')"
   ]
  },
  {
   "cell_type": "code",
   "execution_count": 3,
   "id": "f75885eb-bb96-4c02-bf4d-9ad8451b7b1c",
   "metadata": {},
   "outputs": [
    {
     "name": "stdout",
     "output_type": "stream",
     "text": [
      "1 Name\n",
      "2 Name\n",
      "3 Name\n",
      "4 Name\n",
      "5 Name\n",
      "6 Name\n",
      "7 Name\n",
      "8 Name\n",
      "9 Name\n",
      "10 Name\n",
      "11 Name\n",
      "12 Name\n",
      "13 Name\n",
      "14 Name\n",
      "15 Name\n",
      "16 Name\n",
      "17 Name\n",
      "18 Name\n",
      "19 Name\n",
      "20 Name\n",
      "21 Name\n",
      "22 Name\n",
      "23 Name\n",
      "24 Name\n",
      "25 Name\n",
      "26 Name\n",
      "27 Name\n",
      "28 Name\n",
      "29 Name\n",
      "30 Name\n",
      "31 Name\n",
      "32 Name\n",
      "33 Name\n",
      "34 Name\n",
      "35 Name\n",
      "36 Name\n",
      "37 Name\n",
      "38 Name\n",
      "39 Name\n",
      "40 Name\n",
      "41 Name\n",
      "42 Name\n",
      "43 Name\n",
      "44 Name\n",
      "45 Name\n",
      "46 Name\n",
      "47 Name\n",
      "48 Name\n",
      "49 Name\n",
      "50 Name\n",
      "51 Name\n",
      "52 Name\n",
      "53 Name\n",
      "54 Name\n",
      "55 Name\n",
      "56 Name\n",
      "57 Name\n",
      "58 Name\n",
      "59 Name\n",
      "60 Name\n",
      "61 Name\n",
      "62 Name\n",
      "63 Name\n",
      "64 Name\n",
      "65 Name\n",
      "66 Name\n",
      "67 Name\n",
      "68 Name\n",
      "69 Name\n",
      "70 Name\n",
      "71 Name\n",
      "72 Name\n",
      "73 Name\n",
      "74 Name\n",
      "75 Name\n",
      "76 Name\n",
      "77 Name\n",
      "78 Name\n",
      "79 Name\n",
      "80 Name\n",
      "81 Name\n",
      "82 Name\n",
      "83 Name\n",
      "84 Name\n",
      "85 Name\n",
      "86 Name\n",
      "87 Name\n",
      "88 Name\n",
      "89 Name\n",
      "90 Name\n",
      "91 Name\n",
      "92 Name\n",
      "93 Name\n",
      "94 Name\n",
      "95 Name\n",
      "96 Name\n",
      "97 Name\n",
      "98 Name\n",
      "99 Name\n",
      "100 Name\n"
     ]
    }
   ],
   "source": [
    "# 3. Write a program that outputs 100 lines, numbered 1 to 100, each with your name on it. The output should look like the output below. \n",
    "\n",
    "for i in range(1,101):\n",
    "    print(i, \"Name\")"
   ]
  },
  {
   "cell_type": "raw",
   "id": "d53dc6ed-84de-4ad3-9609-7c72bd060af7",
   "metadata": {},
   "source": [
    "4. Write a program that prints out a list of the integers from 1 to 20 and their squares. The output should look like this:\n",
    "\n",
    "1 --- 1\n",
    "2 --- 4\n",
    "3 --- 9\n",
    "...\n",
    "20 --- 400"
   ]
  },
  {
   "cell_type": "code",
   "execution_count": null,
   "id": "8d4fcbf9-1175-47c3-8f58-411e4ad18a99",
   "metadata": {},
   "outputs": [],
   "source": [
    "for i in range (1,201):\n",
    "    print(i, \"---\", i*i)"
   ]
  },
  {
   "cell_type": "code",
   "execution_count": null,
   "id": "d4d7a8fd-0f72-4fc7-9bc0-c491fdeeb079",
   "metadata": {},
   "outputs": [],
   "source": [
    "# 5 Write a program that uses a for loop to print the numbers 8, 11, 14, 17, 20, …, 83, 86, 89. \n",
    "\n",
    "for i in range(8,90,3):\n",
    "    print(i)"
   ]
  },
  {
   "cell_type": "code",
   "execution_count": null,
   "id": "3abc1f3f-d8fe-4bb9-bf01-1238f6bf4b9d",
   "metadata": {},
   "outputs": [],
   "source": []
  }
 ],
 "metadata": {
  "kernelspec": {
   "display_name": "Python 3 (ipykernel)",
   "language": "python",
   "name": "python3"
  },
  "language_info": {
   "codemirror_mode": {
    "name": "ipython",
    "version": 3
   },
   "file_extension": ".py",
   "mimetype": "text/x-python",
   "name": "python",
   "nbconvert_exporter": "python",
   "pygments_lexer": "ipython3",
   "version": "3.12.3"
  }
 },
 "nbformat": 4,
 "nbformat_minor": 5
}
