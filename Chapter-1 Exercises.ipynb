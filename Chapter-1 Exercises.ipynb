{
 "cells": [
  {
   "cell_type": "code",
   "execution_count": 1,
   "id": "46538999-0f38-4dd8-8cb8-0629ee17d852",
   "metadata": {},
   "outputs": [
    {
     "name": "stdout",
     "output_type": "stream",
     "text": [
      "*******************\n",
      "*******************\n",
      "*******************\n",
      "*******************\n"
     ]
    }
   ],
   "source": [
    "#1\n",
    "\n",
    "print(\"*******************\")\n",
    "print(\"*******************\")\n",
    "print(\"*******************\")\n",
    "print(\"*******************\")"
   ]
  },
  {
   "cell_type": "code",
   "execution_count": 2,
   "id": "cf88bae0-9568-4bea-9d17-33199c9079e0",
   "metadata": {},
   "outputs": [
    {
     "name": "stdout",
     "output_type": "stream",
     "text": [
      "*******************\n",
      "*                 *\n",
      "*                 *\n",
      "*******************\n"
     ]
    }
   ],
   "source": [
    "#2\n",
    "\n",
    "print(\"*******************\")\n",
    "print(\"*                 *\")\n",
    "print(\"*                 *\")\n",
    "print(\"*******************\")"
   ]
  },
  {
   "cell_type": "code",
   "execution_count": 3,
   "id": "7fa8f2dd-1b99-4418-b9c2-140ee6932bc8",
   "metadata": {},
   "outputs": [
    {
     "name": "stdout",
     "output_type": "stream",
     "text": [
      "*\n",
      "**\n",
      "***\n",
      "****\n"
     ]
    }
   ],
   "source": [
    "#3\n",
    "\n",
    "print(\"*\")\n",
    "print(\"**\")\n",
    "print(\"***\")\n",
    "print(\"****\")"
   ]
  },
  {
   "cell_type": "code",
   "execution_count": 4,
   "id": "27134a8d-ae92-434f-a49e-671eaea31d15",
   "metadata": {},
   "outputs": [
    {
     "name": "stdout",
     "output_type": "stream",
     "text": [
      "0.1017249004865104\n"
     ]
    }
   ],
   "source": [
    "#4 Write a program that computes and prints the result of the following expression. 512-282 / 47·48+5 \n",
    "\n",
    "print ((512-282)/(47*48+5))\n"
   ]
  },
  {
   "cell_type": "raw",
   "id": "c9e2d598-ae2e-498c-8810-350592fea82e",
   "metadata": {},
   "source": [
    "5.Ask the user to enter a number. Print out the square of the number, but use the sep optional argument to print it out in a full sentence that ends in a period. Sample output is shown below.\n",
    "\n",
    "Enter a number: 5\n",
    "The square of 5 is 25.\n"
   ]
  },
  {
   "cell_type": "code",
   "execution_count": 6,
   "id": "c704c4b0-6a69-401b-8232-64791314bf4a",
   "metadata": {},
   "outputs": [
    {
     "name": "stdin",
     "output_type": "stream",
     "text": [
      "Enter a number:  5\n"
     ]
    },
    {
     "name": "stdout",
     "output_type": "stream",
     "text": [
      "The square of 5 is 25.\n"
     ]
    }
   ],
   "source": [
    "num = eval(input(\"Enter a number: \"))\n",
    "print(\"The square of \", num, \" is \", num*num, \".\", sep='')"
   ]
  },
  {
   "cell_type": "code",
   "execution_count": null,
   "id": "db7865ab-4c8a-4f61-b330-3d0f238f5578",
   "metadata": {},
   "outputs": [],
   "source": []
  }
 ],
 "metadata": {
  "kernelspec": {
   "display_name": "Python 3 (ipykernel)",
   "language": "python",
   "name": "python3"
  },
  "language_info": {
   "codemirror_mode": {
    "name": "ipython",
    "version": 3
   },
   "file_extension": ".py",
   "mimetype": "text/x-python",
   "name": "python",
   "nbconvert_exporter": "python",
   "pygments_lexer": "ipython3",
   "version": "3.12.3"
  }
 },
 "nbformat": 4,
 "nbformat_minor": 5
}
